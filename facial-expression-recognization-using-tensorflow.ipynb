{
 "cells": [
  {
   "attachments": {},
   "cell_type": "markdown",
   "metadata": {},
   "source": [
    " "
   ]
  },
  {
   "cell_type": "code",
   "execution_count": 25,
   "metadata": {},
   "outputs": [],
   "source": [
    "from tensorflow.keras.models import model_from_json\n",
    "import numpy as np\n",
    "\n",
    "import tensorflow as tf\n",
    "\n",
    "\n",
    "class FacialExpressionModel(object):\n",
    "\n",
    "    EMOTIONS_LIST = [\"Angry\", \"Disgust\",\n",
    "                    \"Fear\", \"Happy\",\n",
    "                    \"Neutral\", \"Sad\",\n",
    "                    \"Surprise\"]\n",
    "\n",
    "    def __init__(self, model_json_file, model_weights_file):\n",
    "        # load model from JSON file\n",
    "        with open(model_json_file, \"r\") as json_file:\n",
    "            loaded_model_json = json_file.read()\n",
    "            self.loaded_model = model_from_json(loaded_model_json)\n",
    "\n",
    "        # load weights into the new model\n",
    "        self.loaded_model.load_weights(model_weights_file)\n",
    "        self.loaded_model._make_predict_function()\n",
    "\n",
    "    def predict_emotion(self, img):\n",
    "        self.preds = self.loaded_model.predict(img)\n",
    "        return FacialExpressionModel.EMOTIONS_LIST[np.argmax(self.preds)]\n"
   ]
  },
  {
   "attachments": {},
   "cell_type": "markdown",
   "metadata": {},
   "source": [
    "## Getting frames and doing prediction"
   ]
  },
  {
   "cell_type": "code",
   "execution_count": 26,
   "metadata": {},
   "outputs": [],
   "source": [
    "  \n",
    "import cv2\n",
    "import numpy as np\n",
    "\n",
    "facec = cv2.CascadeClassifier('haarcascade_frontalface_default.xml')\n",
    "model = FacialExpressionModel(\"./model.json\", \"./model_weights.h5\")\n",
    "font = cv2.FONT_HERSHEY_SIMPLEX\n",
    "\n",
    "ret=[]\n",
    "\n",
    "class VideoCamera(object):\n",
    "    def __init__(self):\n",
    "        #self.video = cv2.VideoCapture(r\"D:\\Meh\\College\\Mini project\\Facial-Expression-Recognition-with-CNNs-master\\myenv\\vid\\Video For Practicing Eye Contact.mp4\")\n",
    "        #self.video = cv2.VideoCapture(r\"A:/project/vid/The secrets to decoding facial expressions.mp4\")#change the backward slashes to forward slashes to run in vscode\n",
    "        self.video = cv2.VideoCapture(0)\n",
    "        \n",
    "    def __del__(self):\n",
    "        self.video.release()\n",
    "\n",
    "    # returns camera frames along with bounding boxes and predictions\n",
    "    def get_frame(self):\n",
    "        _, fr = self.video.read()\n",
    "        gray_fr = cv2.cvtColor(fr, cv2.COLOR_BGR2GRAY)\n",
    "        faces = facec.detectMultiScale(gray_fr, 1.3, 5)\n",
    "\n",
    "        for (x, y, w, h) in faces:\n",
    "            fc = gray_fr[y:y+h, x:x+w]\n",
    "            roi = cv2.resize(fc, (48, 48))\n",
    "            pred = model.predict_emotion(roi[np.newaxis, :, :, np.newaxis])\n",
    "            ret.append(pred)\n",
    "            \n",
    "            cv2.putText(fr, pred, (x, y), font, 1, (255, 255, 0), 2)\n",
    "            cv2.rectangle(fr,(x,y),(x+w,y+h),(255,0,0),2)\n",
    "\n",
    "        return fr"
   ]
  },
  {
   "attachments": {},
   "cell_type": "markdown",
   "metadata": {},
   "source": [
    "## Function for showing output video"
   ]
  },
  {
   "cell_type": "code",
   "execution_count": 27,
   "metadata": {},
   "outputs": [],
   "source": [
    "def gen(camera):\n",
    "    while True:\n",
    "        frame = camera.get_frame()\n",
    "        cv2.imshow('Facial Expression Recognization',frame)\n",
    "        if cv2.waitKey(1) & 0xFF == ord('q'):\n",
    "            break\n",
    "    cv2.destroyAllWindows()"
   ]
  },
  {
   "attachments": {},
   "cell_type": "markdown",
   "metadata": {},
   "source": [
    "## Running the code"
   ]
  },
  {
   "cell_type": "code",
   "execution_count": 28,
   "metadata": {},
   "outputs": [],
   "source": [
    "gen(VideoCamera())"
   ]
  },
  {
   "cell_type": "code",
   "execution_count": 29,
   "metadata": {},
   "outputs": [
    {
     "name": "stdout",
     "output_type": "stream",
     "text": [
      "The maximum shown emotion is:  Neutral\n"
     ]
    }
   ],
   "source": [
    "max_res = max(ret,key=ret.count)\n",
    "print(\"The maximum shown emotion is: \", max_res)"
   ]
  },
  {
   "cell_type": "code",
   "execution_count": 30,
   "metadata": {},
   "outputs": [
    {
     "name": "stdout",
     "output_type": "stream",
     "text": [
      "You look good , hear to this song:  Pirates Of The Caribbean Orchestral Medley - FL Studio Remake.mp3\n"
     ]
    }
   ],
   "source": [
    "import random\n",
    "import os\n",
    "import pathlib\n",
    "import subprocess\n",
    "\n",
    "mp = 'C:/Program Files (x86)/Windows Media Player/wmplayer.exe'\n",
    "if max_res == 'Angry':\n",
    "    randomfile = random.choice(os.listdir(os.path.abspath('')+\"\\\\songs\\\\Angry\\\\\"))\n",
    "    print('You are angry !!!! please calm down:) ,I will play song for you :' + randomfile)\n",
    "    file = (os.path.abspath('')+\"\\\\songs\\\\Angry\\\\\" + randomfile)\n",
    "    subprocess.call([mp, file])\n",
    "\n",
    "if max_res == 'Happy':\n",
    "    randomfile = random.choice(os.listdir(os.path.abspath('')+\"\\\\songs\\\\Happy\\\\\"))\n",
    "    print('You are smiling :) ,I playing special song for you: ' + randomfile)\n",
    "    file = (os.path.abspath('')+\"\\\\songs\\\\Happy\\\\\" + randomfile)\n",
    "    subprocess.call([mp, file])\n",
    "\n",
    "if max_res == 'Fear':\n",
    "    randomfile = random.choice(os.listdir(os.path.abspath('')+\"\\\\songs\\\\Fear\\\\\"))\n",
    "    print('You have fear of something ,I playing song for you: ' + randomfile)\n",
    "    file = (os.path.abspath('')+\"\\\\songs\\\\Fear\\\\\"+ randomfile)\n",
    "    subprocess.call([mp, file])\n",
    "\n",
    "if max_res == 'Neutral':\n",
    "    randomfile = random.choice(os.listdir(os.path.abspath('')+\"\\\\songs\\\\Neutral\\\\\"))\n",
    "    print('You look good , hear to this song:  ' + randomfile)\n",
    "    file = (os.path.abspath('')+\"\\\\songs\\\\Neutral\\\\\" + randomfile)\n",
    "    subprocess.call([mp, file])"
   ]
  }
 ],
 "metadata": {
  "kernelspec": {
   "display_name": "Python 3 (ipykernel)",
   "language": "python",
   "name": "python3"
  },
  "language_info": {
   "codemirror_mode": {
    "name": "ipython",
    "version": 3
   },
   "file_extension": ".py",
   "mimetype": "text/x-python",
   "name": "python",
   "nbconvert_exporter": "python",
   "pygments_lexer": "ipython3",
   "version": "3.7.4"
  }
 },
 "nbformat": 4,
 "nbformat_minor": 4
}
